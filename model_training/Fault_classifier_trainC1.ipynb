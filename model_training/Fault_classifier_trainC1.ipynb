{
 "cells": [
  {
   "cell_type": "code",
   "execution_count": 1,
   "metadata": {
    "executionInfo": {
     "elapsed": 765,
     "status": "ok",
     "timestamp": 1649363899216,
     "user": {
      "displayName": "Aswathy",
      "userId": "06157770311800271718"
     },
     "user_tz": 420
    },
    "id": "aEu1Ga3EqAlD"
   },
   "outputs": [],
   "source": [
    "import scipy.io as sio\n",
    "import os\n",
    "import numpy as np\n",
    "from sklearn.model_selection import StratifiedKFold\n",
    "from sklearn.svm import SVC\n",
    "import pickle\n",
    "\n",
    "def load_train(data1):\n",
    "    '''\n",
    "    Loads the data from the matfile \n",
    "    Performs normalization of the data using the maximum and minimum value\n",
    "    Extracts the train data and labels into X,y\n",
    "    '''\n",
    "\n",
    "    train = data1[0:round(data1.shape[0]/2),:] # taking first half of the year for training\n",
    "    max1 = train[:,1:7].max(axis=0) # computing the maximum of train data\n",
    "    min1 = train[:,1:7].min(axis=0) # computing the minimum of train data\n",
    "    train[:,1:7] = (train[:,1:7] - min1) / (max1 - min1) # Normalization\n",
    "\n",
    "    train_f = train[np.where(train[:,10]>0)] # getting only the fault data\n",
    "    lab_f = train_f[:,10]  # getting the corresponding labels\n",
    "\n",
    "    xtrain = train_f       \n",
    "    ytrain = lab_f\n",
    "    X = xtrain[1::120,1:7] # subsampling by a factor of 120\n",
    "    y = ytrain[1::120]    # subsampling the labels\n",
    "    \n",
    "    return X,y, max1, min1\n",
    "\n",
    "def splitting_train_val(X,y):\n",
    "    '''\n",
    "    Doing a stratifief 2 fold split for splitting \n",
    "    the data into train and validation set\n",
    "    '''\n",
    "\n",
    "    skf = StratifiedKFold(n_splits=2)\n",
    "    skf.get_n_splits(X, y)\n",
    "\n",
    "    for train_index, test_index in skf.split(X, y):\n",
    "        #print(\"TRAIN:\", train_index, \"TEST:\", test_index)\n",
    "        X_train, X_test = X[train_index], X[test_index]\n",
    "        y_train, y_test = y[train_index], y[test_index]\n",
    "\n",
    "    return X_train, y_train\n",
    "\n",
    "def loading_matfile_data(relay, mat_file):\n",
    "    os.chdir('../Data')\n",
    "    data1 = sio.loadmat(relay + '.mat')[mat_file]\n",
    "    [X,y, max_tr, min_tr] = load_train(data1)\n",
    "    [X_train, y_train] = splitting_train_val(X,y)\n",
    "    return X_train,y_train, max_tr, min_tr\n",
    "\n",
    "def train_svm(X,y):\n",
    "    svm_model = SVC(kernel='linear', C = 100).fit(X, y) \n",
    "    return svm_model\n",
    "\n",
    "def main():\n",
    "    relay = 'RTL3'\n",
    "    config = 'C1' # change based on the configuration needed\n",
    "    \n",
    "    mat_file = config+relay \n",
    "\n",
    "    [X, y, max_tr, min_tr] = loading_matfile_data(relay, mat_file)\n",
    "    svm_model = train_svm(X,y)\n",
    "\n",
    "    dir_sav = '../Models'\n",
    "    file_name = mat_file + '_svmmodel.sav'\n",
    "    os.chdir(dir_sav)\n",
    "    pickle.dump(svm_model, open(file_name, 'wb'))\n",
    "    np.save('maxmin_svm_' + mat_file + '.npy', [max_tr, min_tr])\n",
    "\n",
    "if __name__ == '__main__':\n",
    "    main()\n"
   ]
  }
 ],
 "metadata": {
  "colab": {
   "authorship_tag": "ABX9TyOS7TDo394Ckoouuyi/nYRq",
   "collapsed_sections": [],
   "mount_file_id": "1vttCr3ewC5mnVazFNMSddIbaBUa25eqI",
   "name": "Fault_classifier_trainC1.ipynb",
   "provenance": []
  },
  "kernelspec": {
   "display_name": "Python 3",
   "language": "python",
   "name": "python3"
  },
  "language_info": {
   "codemirror_mode": {
    "name": "ipython",
    "version": 3
   },
   "file_extension": ".py",
   "mimetype": "text/x-python",
   "name": "python",
   "nbconvert_exporter": "python",
   "pygments_lexer": "ipython3",
   "version": "3.8.5"
  }
 },
 "nbformat": 4,
 "nbformat_minor": 1
}
